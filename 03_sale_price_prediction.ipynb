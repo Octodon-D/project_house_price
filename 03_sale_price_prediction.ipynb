{
 "cells": [
  {
   "cell_type": "markdown",
   "id": "e1c03374",
   "metadata": {},
   "source": [
    "# 3. Sale price prediction\n",
    "The aim of this part is to predict the sale price of houses as accurately as possible with a multivariate linear regression. \n",
    "\n",
    "## Preparations\n",
    "Import required libaries and load fitted and cleaned data from first notebook."
   ]
  },
  {
   "cell_type": "code",
   "execution_count": 1,
   "id": "81ca758e",
   "metadata": {},
   "outputs": [],
   "source": [
    "import matplotlib.pyplot as plt\n",
    "import numpy as np\n",
    "import pandas as pd\n",
    "from scipy import stats\n",
    "\n",
    "from datetime import datetime, date, time, timedelta\n",
    "from sklearn.model_selection import train_test_split\n",
    "from sklearn.linear_model import LinearRegression\n",
    "from sklearn.metrics import mean_squared_error, r2_score\n",
    "\n",
    "import seaborn as sns\n",
    "from scipy import stats \n",
    "import statsmodels.api as sms\n",
    "import statsmodels.formula.api as smf\n",
    "\n",
    "%matplotlib inline"
   ]
  },
  {
   "cell_type": "code",
   "execution_count": 2,
   "id": "8334dd4a",
   "metadata": {},
   "outputs": [],
   "source": [
    "df = pd.read_csv('data/df_cleaned.csv')"
   ]
  },
  {
   "cell_type": "markdown",
   "id": "4c6772ba",
   "metadata": {},
   "source": [
    "## Split dataframe into test and train set\n",
    "We do not yet know the true sales price until the house has been successfully sold. In order to test the model before applying on new and unknown data we have to split the data into a train and test dataset. During building the model I only work with the train dataset and keep the other part untouched. Later on the test set is then used to compare the results of the model (predicted prices) with the true sales prices and gives indication how well the model determines the true prices. \n",
    "To separate the dataset into training and testing data, we use a feature of Scikit-Learn: Train-Test-Split. "
   ]
  },
  {
   "cell_type": "code",
   "execution_count": 3,
   "id": "894ee4c2",
   "metadata": {},
   "outputs": [],
   "source": [
    "# remove columns because they do not provide prognostic information\n",
    "df.drop(['sqft_above', 'sqft_basement', 'yr_renovated', 'lat', 'long', 'yr_sale', \n",
    "         'mo_sale', 'sqft_price', 'sqft_lot_price'], axis=1, inplace=True)"
   ]
  },
  {
   "cell_type": "code",
   "execution_count": 4,
   "id": "f5e1e425",
   "metadata": {},
   "outputs": [],
   "source": [
    "# define descriptive variables\n",
    "all_features = ['bedrooms', 'bathrooms', 'sqft_living', 'sqft_lot', 'floors', 'waterfront', 'view', \n",
    "                'condition', 'grade', 'yr_built', 'zipcode', 'sqft_living15', 'sqft_lot15', 'renovated', 'basement']\n",
    "\n",
    "# X contains all descriptive variables defined above\n",
    "X = df[all_features]\n",
    "\n",
    "# y contains price\n",
    "y = df.price"
   ]
  },
  {
   "cell_type": "code",
   "execution_count": 6,
   "id": "16736dc6",
   "metadata": {},
   "outputs": [],
   "source": [
    "# split data into train and test data\n",
    "# 25 % of the data is used for the subsequent testing of the prognostic quality\n",
    "X_train, X_test, y_train, y_test = train_test_split(X, y, test_size=0.25, random_state=42)"
   ]
  },
  {
   "cell_type": "code",
   "execution_count": 7,
   "id": "1431d582",
   "metadata": {},
   "outputs": [
    {
     "name": "stdout",
     "output_type": "stream",
     "text": [
      "X_train (features for the model to learn from):  (16197, 15)\n",
      "y_train (labels for the model to learn from):  (16197,)\n",
      "X_test (features to test the model's accuracy against):  (5399, 15)\n",
      "y_test (labels to test the model's accuracy with):  (5399,)\n"
     ]
    }
   ],
   "source": [
    "# we can look at how much data is in each dataset\n",
    "print(\"X_train (features for the model to learn from): \", X_train.shape)\n",
    "print(\"y_train (labels for the model to learn from): \", y_train.shape)\n",
    "print(\"X_test (features to test the model's accuracy against): \", X_test.shape)\n",
    "print(\"y_test (labels to test the model's accuracy with): \", y_test.shape)"
   ]
  },
  {
   "cell_type": "markdown",
   "id": "751c8113",
   "metadata": {},
   "source": [
    "## Correlations with price\n",
    "To get an idea which features are most interesting for the model, we take another look at the Pearson correlation coefficients"
   ]
  },
  {
   "cell_type": "code",
   "execution_count": 8,
   "id": "fc67779c",
   "metadata": {},
   "outputs": [],
   "source": [
    "# combine X_train and y_train again to use only the training set\n",
    "X_training = X_train.merge(y_train, left_index=True, right_index=True)"
   ]
  },
  {
   "cell_type": "code",
   "execution_count": 9,
   "id": "f826ce4e",
   "metadata": {},
   "outputs": [
    {
     "data": {
      "image/png": "[encoded data removed]",
      "text/plain": [
       "<Figure size 720x360 with 1 Axes>"
      ]
     },
     "metadata": {
      "needs_background": "light"
     },
     "output_type": "display_data"
    }
   ],
   "source": [
    "corr_price = X_training.corrwith(X_training.price).sort_values(ascending=False)\n",
    "corr_price = corr_price[1:] # exclude price\n",
    "\n",
    "# plot correlation with price\n",
    "fig, ax = plt.subplots(figsize = (10,5))\n",
    "sns.barplot(x=corr_price.index, y=corr_price);\n",
    "plt.xticks(rotation='75');\n",
    "ax.set_ylabel('Correlation')\n",
    "ax.set_xlabel('Features')\n",
    "ax.set_title('Correlation with price', fontsize = 20);"
   ]
  },
  {
   "cell_type": "markdown",
   "id": "98db0001",
   "metadata": {},
   "source": [
    "## Multiple Linear Regression"
   ]
  },
  {
   "cell_type": "code",
   "execution_count": 32,
   "id": "7cf66e13",
   "metadata": {},
   "outputs": [],
   "source": [
    "# determine the model\n",
    "model1 = LinearRegression()\n",
    "model2 = LinearRegression()\n",
    "model3 = LinearRegression()"
   ]
  },
  {
   "cell_type": "code",
   "execution_count": 33,
   "id": "a4f1b49c",
   "metadata": {},
   "outputs": [
    {
     "data": {
      "text/plain": [
       "LinearRegression()"
      ]
     },
     "execution_count": 33,
     "metadata": {},
     "output_type": "execute_result"
    }
   ],
   "source": [
    "# training of the model\n",
    "# first model with all features\n",
    "model1.fit(X_train, y_train)\n",
    "\n",
    "# second model with features with a correlation higher than 0.5\n",
    "# determine variables to pass into the model\n",
    "features2 = ['sqft_living', 'grade', 'sqft_living15', 'bathrooms']\n",
    "model2.fit(X_train[features2], y_train)\n",
    "\n",
    "# third model with features with a correlation higher than 0.1\n",
    "# determine variables to pass into the model\n",
    "features3 = ['sqft_living', 'grade', 'sqft_living15', 'bathrooms', 'view', 'bedrooms', 'waterfront', 'floors', 'basement', 'renovated']\n",
    "model3.fit(X_train[features3], y_train)"
   ]
  },
  {
   "cell_type": "markdown",
   "id": "c64f3d1c",
   "metadata": {},
   "source": [
    "## Evaluation \n",
    "The R^2 and the adjusted R^2 indicate the percentage of variance of the target variable (price per square foot) explained by the model. Adjusted R² is a modified version of R² that has been adjusted with the number of explanatory variables. It penalises the addition of unnecessary variables and allows comparison of regression models with different numbers of explanatory variables."
   ]
  },
  {
   "cell_type": "code",
   "execution_count": 36,
   "id": "5a82f30e",
   "metadata": {},
   "outputs": [
    {
     "name": "stdout",
     "output_type": "stream",
     "text": [
      "R^2:  0.6412\n",
      "adj. R^2:  0.6402\n"
     ]
    }
   ],
   "source": [
    "# evaluation model 1\n",
    "print('R^2: ', model1.score(X_test, y_test).round(4))\n",
    "print('adj. R^2: ', (1-(1-model1.score(X_test, y_test))*(X_test.shape[0]- 1)/(X_test.shape[0]-X_test.shape[1]-1)).round(4))"
   ]
  },
  {
   "cell_type": "code",
   "execution_count": 37,
   "id": "ba5fe7db",
   "metadata": {},
   "outputs": [
    {
     "name": "stdout",
     "output_type": "stream",
     "text": [
      "R^2:  0.5359\n",
      "adj. R^2:  0.5356\n"
     ]
    }
   ],
   "source": [
    "# evaluation model 2\n",
    "print('R^2: ', model2.score(X_test[features2], y_test).round(4))\n",
    "print('adj. R^2: ', (1-(1-model2.score(X_test[features2], y_test))*(X_test[features2].shape[0]- 1)/(X_test[features2].shape[0]-X_test[features2].shape[1]-1)).round(4))"
   ]
  },
  {
   "cell_type": "code",
   "execution_count": 39,
   "id": "c2398891",
   "metadata": {},
   "outputs": [
    {
     "name": "stdout",
     "output_type": "stream",
     "text": [
      "R^2:  0.5987\n",
      "adj. R^2:  0.5979\n"
     ]
    }
   ],
   "source": [
    "# evaluation model 3\n",
    "print('R^2: ', model3.score(X_test[features3], y_test).round(4))\n",
    "print('adj. R^2: ', (1-(1-model3.score(X_test[features3], y_test))*(X_test[features3].shape[0]- 1)/(X_test[features3].shape[0]-X_test[features3].shape[1]-1)).round(4))"
   ]
  },
  {
   "cell_type": "markdown",
   "id": "4cc1682a",
   "metadata": {},
   "source": [
    "### Conclusion\n",
    "The creatied model predicts prices with an accuracy of 64% when all variables are included. "
   ]
  },
  {
   "cell_type": "code",
   "execution_count": null,
   "id": "fefb6509",
   "metadata": {},
   "outputs": [],
   "source": []
  }
 ],
 "metadata": {
  "kernelspec": {
   "display_name": "Python 3",
   "language": "python",
   "name": "python3"
  },
  "language_info": {
   "codemirror_mode": {
    "name": "ipython",
    "version": 3
   },
   "file_extension": ".py",
   "mimetype": "text/x-python",
   "name": "python",
   "nbconvert_exporter": "python",
   "pygments_lexer": "ipython3",
   "version": "3.8.5"
  }
 },
 "nbformat": 4,
 "nbformat_minor": 5
}
